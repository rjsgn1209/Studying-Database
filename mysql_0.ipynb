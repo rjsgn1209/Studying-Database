{
 "cells": [
  {
   "cell_type": "code",
   "execution_count": 1,
   "id": "7e86cc4a",
   "metadata": {},
   "outputs": [],
   "source": [
    "# 데이터베이스\n",
    "# 대량의 데이터를 입력, 저장, 처리하는 시스템.\n",
    "\n",
    "# sql\n",
    "# mysql(개인, 중소규모), oracle(대규모 데이터, 대기업), mssql - 동일한 언어(sql)\n",
    "# 정형화된 데이터(표형식으로 정리되 데이터)\n",
    "\n",
    "# nosql\n",
    "# mongodb...,  Redis, Riak, DynamoDB\n",
    "# 비정형 데이터(테스트, 파일, 이미지, 영상...)"
   ]
  },
  {
   "cell_type": "code",
   "execution_count": 2,
   "id": "3e43fab9",
   "metadata": {},
   "outputs": [],
   "source": [
    "# mysql\n",
    "# excel => excel file - excel sheet\n",
    "# pandas => pandas - dataframe\n",
    "# mysql => database - table\n",
    "\n",
    "# GUI 개발현경 - workbench"
   ]
  },
  {
   "cell_type": "code",
   "execution_count": null,
   "id": "8f9dc322",
   "metadata": {},
   "outputs": [],
   "source": []
  },
  {
   "cell_type": "code",
   "execution_count": null,
   "id": "90c736a9",
   "metadata": {},
   "outputs": [],
   "source": []
  },
  {
   "cell_type": "code",
   "execution_count": null,
   "id": "1fbeccc8",
   "metadata": {},
   "outputs": [],
   "source": []
  },
  {
   "cell_type": "code",
   "execution_count": null,
   "id": "a12456db",
   "metadata": {},
   "outputs": [],
   "source": []
  },
  {
   "cell_type": "code",
   "execution_count": null,
   "id": "61935cc5",
   "metadata": {},
   "outputs": [],
   "source": []
  },
  {
   "cell_type": "code",
   "execution_count": null,
   "id": "1f37112f",
   "metadata": {},
   "outputs": [],
   "source": []
  }
 ],
 "metadata": {
  "kernelspec": {
   "display_name": "Python 3 (ipykernel)",
   "language": "python",
   "name": "python3"
  },
  "language_info": {
   "codemirror_mode": {
    "name": "ipython",
    "version": 3
   },
   "file_extension": ".py",
   "mimetype": "text/x-python",
   "name": "python",
   "nbconvert_exporter": "python",
   "pygments_lexer": "ipython3",
   "version": "3.9.7"
  }
 },
 "nbformat": 4,
 "nbformat_minor": 5
}
